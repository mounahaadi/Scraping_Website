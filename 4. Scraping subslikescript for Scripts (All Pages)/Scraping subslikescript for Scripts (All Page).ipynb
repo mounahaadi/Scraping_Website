{
 "cells": [
  {
   "cell_type": "markdown",
   "id": "2c4a67df-a7bc-4e14-b036-a916186bed39",
   "metadata": {},
   "source": [
    "* Link of the website to scrape : `https://subslikescript.com/movies_letter-A?page=1`\n",
    "* By the time of writing this code, the website has 134 pages of movies that start with letter **A**\n",
    "* Let's start to scrape the data\n",
    "* First write the most basic"
   ]
  },
  {
   "cell_type": "code",
   "execution_count": 7,
   "id": "8a6d1bb5-2ffb-46e5-8e8f-471b1ade8fb2",
   "metadata": {},
   "outputs": [],
   "source": [
    "def checking_for_next_page(link):\n",
    "    anchor_list = container.find_all('a')\n",
    "    for i in anchor_list[::-1]:\n",
    "        if i.get('rel') == ['next']:\n",
    "            has_next = True\n",
    "            next_link = i.get('href')\n",
    "            scrape_present_link(next_link)\n",
    "            break\n",
    "        else:\n",
    "            print(\"Done with scraping\")\n",
    "            break"
   ]
  },
  {
   "cell_type": "code",
   "execution_count": 8,
   "id": "4b010b33-0dd9-4243-a86d-a359b1d3ba13",
   "metadata": {},
   "outputs": [],
   "source": [
    "def scrape_movie(next_link):\n",
    "    # print(\"    scrape_movie\", next_link)\n",
    "    response = requests.get(next_link)\n",
    "    soup = BeautifulSoup(response.text, 'lxml')\n",
    "\n",
    "    container = soup.find('article', class_ =\"main-article\")\n",
    "\n",
    "    # MOVIE NAME\n",
    "    movie_name, movie_script = container.find('h1').text.replace(\" - full transcript\",\"\"), container.find('div' , class_ = \"full-script\").get_text(separator='\\n')\n",
    "\n",
    "    # Function to sanitize filename\n",
    "    def sanitize_filename(filename):\n",
    "        # Replace invalid characters with underscores\n",
    "        invalid_chars = '\\\\/:*?\"<>|'\n",
    "        for char in invalid_chars:\n",
    "            filename = filename.replace(char, '_')\n",
    "        return filename\n",
    "    \n",
    "    folder_name = \"MOVIE\"\n",
    "\n",
    "    if not os.path.exists(folder_name):\n",
    "        os.makedirs(folder_name)\n",
    "\n",
    "\n",
    "    sanitized_movie_name = sanitize_filename(movie_name) \n",
    "    \n",
    "    with open(os.path.join(folder_name, sanitized_movie_name+'.txt'), 'w', encoding='utf-8') as f:\n",
    "        f.write(movie_script)\n",
    "        # print(\"    Created File - '\" + sanitized_movie_name + \".txt'\" , \"and added script inside it\")"
   ]
  },
  {
   "cell_type": "code",
   "execution_count": 9,
   "id": "5304471c-f585-4cc4-bc8f-4fe8fab37cff",
   "metadata": {},
   "outputs": [],
   "source": [
    "def scrape_present_link(link):\n",
    "    print(\"scrape_present_link : \", link)\n",
    "    response = requests.get(link)\n",
    "    soup = BeautifulSoup(response.text, 'lxml')\n",
    "\n",
    "    global container\n",
    "    \n",
    "    container = soup.find('main', class_ = \"mainpage\")\n",
    "    sub_container = container.find('article', class_ = \"main-article\")\n",
    "    movie_links = sub_container.find('ul').find_all('a')\n",
    "\n",
    "    global count\n",
    "    \n",
    "    for i in movie_links:\n",
    "            scrape_movie( base_url + \"/\" + i.get('href'))\n",
    "        \n",
    "    checking_for_next_page(link)"
   ]
  },
  {
   "cell_type": "code",
   "execution_count": 11,
   "id": "0109664e-cecf-44ec-84dd-1dcf8f35de75",
   "metadata": {
    "scrolled": true
   },
   "outputs": [
    {
     "name": "stdout",
     "output_type": "stream",
     "text": [
      "scrape_present_link :  https://subslikescript.com/movies_letter-X?page=1\n",
      "scrape_present_link :  http://subslikescript.com/movies_letter-X?page=2\n",
      "scrape_present_link :  http://subslikescript.com/movies_letter-X?page=3\n",
      "Done with scraping\n"
     ]
    }
   ],
   "source": [
    "# IMPORTING LIBRARIES\n",
    "from bs4 import BeautifulSoup\n",
    "import requests\n",
    "import os\n",
    "import sys\n",
    "\n",
    "base_url = 'https://subslikescript.com'\n",
    "first_url = 'https://subslikescript.com/movies_letter-X?page=1'\n",
    "\n",
    "# 6th Page\n",
    "# https://subslikescript.com/movies_letter-A?page=1\n",
    "\n",
    "scrape_present_link(first_url)"
   ]
  },
  {
   "cell_type": "markdown",
   "id": "e5072256-74be-4451-91e3-c03662d6e4e2",
   "metadata": {},
   "source": [
    "------------------------------------------------------------------------------------------------------------------------------------------------------------------------------------------"
   ]
  },
  {
   "cell_type": "code",
   "execution_count": null,
   "id": "81aaf7fd-d62b-41ad-b199-524f6f7fd76c",
   "metadata": {},
   "outputs": [],
   "source": []
  }
 ],
 "metadata": {
  "kernelspec": {
   "display_name": "Python 3 (ipykernel)",
   "language": "python",
   "name": "python3"
  },
  "language_info": {
   "codemirror_mode": {
    "name": "ipython",
    "version": 3
   },
   "file_extension": ".py",
   "mimetype": "text/x-python",
   "name": "python",
   "nbconvert_exporter": "python",
   "pygments_lexer": "ipython3",
   "version": "3.12.0"
  }
 },
 "nbformat": 4,
 "nbformat_minor": 5
}
